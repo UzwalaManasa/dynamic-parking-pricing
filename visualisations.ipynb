{
  "nbformat": 4,
  "nbformat_minor": 0,
  "metadata": {
    "colab": {
      "provenance": []
    },
    "kernelspec": {
      "name": "python3",
      "display_name": "Python 3"
    },
    "language_info": {
      "name": "python"
    }
  },
  "cells": [
    {
      "cell_type": "code",
      "execution_count": 1,
      "metadata": {
        "id": "ClvWc2Puulko"
      },
      "outputs": [],
      "source": [
        "import os\n",
        "\n",
        "# Create visualizations directory\n",
        "os.makedirs(\"visualizations\", exist_ok=True)\n"
      ]
    },
    {
      "cell_type": "code",
      "source": [
        "from bokeh.plotting import figure, output_file, save\n",
        "from bokeh.palettes import Category10\n",
        "import pandas as pd\n",
        "\n",
        "# Sample price data: assume you have a DataFrame `df_prices` like:\n",
        "# Columns: Time, Lot1, Lot2, ..., LotN\n",
        "\n",
        "# Dummy example (replace with your actual price data)\n",
        "# df_prices = pd.read_csv('your_price_output.csv')\n",
        "\n",
        "df_prices = pd.DataFrame({\n",
        "    'Time': list(range(10)),\n",
        "    'Lot A': [10, 12, 14, 13, 16, 18, 20, 19, 21, 22],\n",
        "    'Lot B': [8, 9, 9, 10, 11, 11, 12, 12, 13, 14],\n",
        "    'Lot C': [5, 6, 8, 8, 9, 10, 11, 11, 12, 13],\n",
        "})\n",
        "\n",
        "output_file(\"visualizations/price_trends.html\")\n",
        "\n",
        "p = figure(title=\"Price Trends Over Time\", x_axis_label='Time', y_axis_label='Price', width=800, height=400)\n",
        "colors = Category10[10]\n",
        "\n",
        "for i, lot in enumerate(df_prices.columns[1:]):\n",
        "    p.line(df_prices[\"Time\"], df_prices[lot], legend_label=lot, line_width=2, color=colors[i % 10])\n",
        "\n",
        "p.legend.location = \"top_left\"\n",
        "save(p)\n"
      ],
      "metadata": {
        "colab": {
          "base_uri": "https://localhost:8080/",
          "height": 36
        },
        "id": "WIWGo1DHusQ5",
        "outputId": "3a16c6a5-b7af-40e6-df11-1ee25279a7f8"
      },
      "execution_count": 2,
      "outputs": [
        {
          "output_type": "execute_result",
          "data": {
            "text/plain": [
              "'/content/visualizations/price_trends.html'"
            ],
            "application/vnd.google.colaboratory.intrinsic+json": {
              "type": "string"
            }
          },
          "metadata": {},
          "execution_count": 2
        }
      ]
    },
    {
      "cell_type": "code",
      "source": [
        "from bokeh.plotting import figure, output_file, save\n",
        "import pandas as pd\n",
        "from bokeh.transform import dodge\n",
        "\n",
        "# Sample competitive data (replace with your actual geo-pricing comparison)\n",
        "df_comp = pd.DataFrame({\n",
        "    'Lot': ['Lot A', 'Lot B', 'Lot C'],\n",
        "    'Our Price': [20, 15, 18],\n",
        "    'Competitor Avg Price': [19, 16, 17]\n",
        "})\n",
        "\n",
        "output_file(\"visualizations/competitive_pricing.html\")\n",
        "p2 = figure(x_range=df_comp['Lot'], title=\"Competitive Pricing Comparison\", width=600, height=400)\n",
        "p2.vbar(x=dodge('Lot', -0.2, range=p2.x_range), top='Our Price', width=0.35, source=df_comp, legend_label=\"Our Price\", color=\"#1f77b4\")\n",
        "p2.vbar(x=dodge('Lot', 0.2, range=p2.x_range), top='Competitor Avg Price', width=0.35, source=df_comp, legend_label=\"Competitor Avg\", color=\"#ff7f0e\")\n",
        "\n",
        "p2.xaxis.axis_label = \"Parking Lot\"\n",
        "p2.yaxis.axis_label = \"Price\"\n",
        "p2.legend.location = \"top_left\"\n",
        "save(p2)"
      ],
      "metadata": {
        "colab": {
          "base_uri": "https://localhost:8080/",
          "height": 36
        },
        "id": "mzmdpy-DusGN",
        "outputId": "3bf46ea9-d0e7-4664-a444-87e831e99294"
      },
      "execution_count": 4,
      "outputs": [
        {
          "output_type": "execute_result",
          "data": {
            "text/plain": [
              "'/content/visualizations/competitive_pricing.html'"
            ],
            "application/vnd.google.colaboratory.intrinsic+json": {
              "type": "string"
            }
          },
          "metadata": {},
          "execution_count": 4
        }
      ]
    },
    {
      "cell_type": "code",
      "source": [
        "from google.colab import files\n",
        "\n",
        "# Download the visualizations\n",
        "files.download(\"visualizations/price_trends.html\")\n",
        "files.download(\"visualizations/competitive_pricing.html\")\n"
      ],
      "metadata": {
        "colab": {
          "base_uri": "https://localhost:8080/",
          "height": 17
        },
        "id": "-UoIKg9UwGME",
        "outputId": "7fa6cc13-efeb-48cc-8895-6945b4bcd61f"
      },
      "execution_count": 6,
      "outputs": [
        {
          "output_type": "display_data",
          "data": {
            "text/plain": [
              "<IPython.core.display.Javascript object>"
            ],
            "application/javascript": [
              "\n",
              "    async function download(id, filename, size) {\n",
              "      if (!google.colab.kernel.accessAllowed) {\n",
              "        return;\n",
              "      }\n",
              "      const div = document.createElement('div');\n",
              "      const label = document.createElement('label');\n",
              "      label.textContent = `Downloading \"${filename}\": `;\n",
              "      div.appendChild(label);\n",
              "      const progress = document.createElement('progress');\n",
              "      progress.max = size;\n",
              "      div.appendChild(progress);\n",
              "      document.body.appendChild(div);\n",
              "\n",
              "      const buffers = [];\n",
              "      let downloaded = 0;\n",
              "\n",
              "      const channel = await google.colab.kernel.comms.open(id);\n",
              "      // Send a message to notify the kernel that we're ready.\n",
              "      channel.send({})\n",
              "\n",
              "      for await (const message of channel.messages) {\n",
              "        // Send a message to notify the kernel that we're ready.\n",
              "        channel.send({})\n",
              "        if (message.buffers) {\n",
              "          for (const buffer of message.buffers) {\n",
              "            buffers.push(buffer);\n",
              "            downloaded += buffer.byteLength;\n",
              "            progress.value = downloaded;\n",
              "          }\n",
              "        }\n",
              "      }\n",
              "      const blob = new Blob(buffers, {type: 'application/binary'});\n",
              "      const a = document.createElement('a');\n",
              "      a.href = window.URL.createObjectURL(blob);\n",
              "      a.download = filename;\n",
              "      div.appendChild(a);\n",
              "      a.click();\n",
              "      div.remove();\n",
              "    }\n",
              "  "
            ]
          },
          "metadata": {}
        },
        {
          "output_type": "display_data",
          "data": {
            "text/plain": [
              "<IPython.core.display.Javascript object>"
            ],
            "application/javascript": [
              "download(\"download_7db0129b-24ce-4076-b7bc-a53e2a6ea2bf\", \"price_trends.html\", 9383)"
            ]
          },
          "metadata": {}
        },
        {
          "output_type": "display_data",
          "data": {
            "text/plain": [
              "<IPython.core.display.Javascript object>"
            ],
            "application/javascript": [
              "\n",
              "    async function download(id, filename, size) {\n",
              "      if (!google.colab.kernel.accessAllowed) {\n",
              "        return;\n",
              "      }\n",
              "      const div = document.createElement('div');\n",
              "      const label = document.createElement('label');\n",
              "      label.textContent = `Downloading \"${filename}\": `;\n",
              "      div.appendChild(label);\n",
              "      const progress = document.createElement('progress');\n",
              "      progress.max = size;\n",
              "      div.appendChild(progress);\n",
              "      document.body.appendChild(div);\n",
              "\n",
              "      const buffers = [];\n",
              "      let downloaded = 0;\n",
              "\n",
              "      const channel = await google.colab.kernel.comms.open(id);\n",
              "      // Send a message to notify the kernel that we're ready.\n",
              "      channel.send({})\n",
              "\n",
              "      for await (const message of channel.messages) {\n",
              "        // Send a message to notify the kernel that we're ready.\n",
              "        channel.send({})\n",
              "        if (message.buffers) {\n",
              "          for (const buffer of message.buffers) {\n",
              "            buffers.push(buffer);\n",
              "            downloaded += buffer.byteLength;\n",
              "            progress.value = downloaded;\n",
              "          }\n",
              "        }\n",
              "      }\n",
              "      const blob = new Blob(buffers, {type: 'application/binary'});\n",
              "      const a = document.createElement('a');\n",
              "      a.href = window.URL.createObjectURL(blob);\n",
              "      a.download = filename;\n",
              "      div.appendChild(a);\n",
              "      a.click();\n",
              "      div.remove();\n",
              "    }\n",
              "  "
            ]
          },
          "metadata": {}
        },
        {
          "output_type": "display_data",
          "data": {
            "text/plain": [
              "<IPython.core.display.Javascript object>"
            ],
            "application/javascript": [
              "download(\"download_2f0fbe05-df3d-4381-bc11-e4265a80ace4\", \"competitive_pricing.html\", 10002)"
            ]
          },
          "metadata": {}
        }
      ]
    }
  ]
}